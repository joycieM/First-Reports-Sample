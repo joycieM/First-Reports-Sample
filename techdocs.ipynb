{
  "nbformat": 4,
  "nbformat_minor": 0,
  "metadata": {
    "colab": {
      "provenance": [],
      "authorship_tag": "ABX9TyOMi3L3Yickf2XKdMw0zeuX",
      "include_colab_link": true
    },
    "kernelspec": {
      "name": "python3",
      "display_name": "Python 3"
    },
    "language_info": {
      "name": "python"
    }
  },
  "cells": [
    {
      "cell_type": "markdown",
      "metadata": {
        "id": "view-in-github",
        "colab_type": "text"
      },
      "source": [
        "<a href=\"https://colab.research.google.com/github/joycieM/First-Reports-Sample/blob/main/techdocs.ipynb\" target=\"_parent\"><img src=\"https://colab.research.google.com/assets/colab-badge.svg\" alt=\"Open In Colab\"/></a>"
      ]
    },
    {
      "cell_type": "markdown",
      "source": [
        "## Ingest"
      ],
      "metadata": {
        "id": "geQIH4mFtggv"
      }
    },
    {
      "cell_type": "code",
      "execution_count": null,
      "metadata": {
        "colab": {
          "base_uri": "https://localhost:8080/",
          "height": 36
        },
        "id": "xKUVTNSHs4At",
        "outputId": "8e3b9724-f0ac-446d-d093-2dff07708982"
      },
      "outputs": [
        {
          "output_type": "execute_result",
          "data": {
            "text/plain": [
              "'hi'"
            ],
            "application/vnd.google.colaboratory.intrinsic+json": {
              "type": "string"
            }
          },
          "metadata": {},
          "execution_count": 1
        }
      ],
      "source": [
        "def hello ():\n",
        "  return \"hi\"\n",
        "hello ()"
      ]
    },
    {
      "cell_type": "markdown",
      "source": [
        "## EDA"
      ],
      "metadata": {
        "id": "HkdbHn86t0_C"
      }
    },
    {
      "cell_type": "code",
      "source": [
        "\n"
      ],
      "metadata": {
        "id": "tcLhep0kt2Xf"
      },
      "execution_count": null,
      "outputs": []
    },
    {
      "cell_type": "markdown",
      "source": [
        "### this is a markdown heading"
      ],
      "metadata": {
        "id": "36rh5-cFt9Jp"
      }
    },
    {
      "cell_type": "markdown",
      "source": [
        "\n",
        "## Modelling"
      ],
      "metadata": {
        "id": "wh3jwuSdt35h"
      }
    },
    {
      "cell_type": "code",
      "source": [],
      "metadata": {
        "id": "AEG6QfeFt6US"
      },
      "execution_count": null,
      "outputs": []
    }
  ]
}